{
  "nbformat": 4,
  "nbformat_minor": 0,
  "metadata": {
    "colab": {
      "provenance": [],
      "authorship_tag": "ABX9TyPoHbldhcm+yoauDj5wi4JT",
      "include_colab_link": true
    },
    "kernelspec": {
      "name": "python3",
      "display_name": "Python 3"
    },
    "language_info": {
      "name": "python"
    }
  },
  "cells": [
    {
      "cell_type": "markdown",
      "metadata": {
        "id": "view-in-github",
        "colab_type": "text"
      },
      "source": [
        "<a href=\"https://colab.research.google.com/github/lorenzotomada/AppliedMathematics/blob/main/Code/AM_lab1.ipynb\" target=\"_parent\"><img src=\"https://colab.research.google.com/assets/colab-badge.svg\" alt=\"Open In Colab\"/></a>"
      ]
    },
    {
      "cell_type": "markdown",
      "source": [
        "#**Introduction to Python**\n",
        "The goal of this lab session is to provide an introduction to the Python programming language."
      ],
      "metadata": {
        "id": "8ipzweHJ2-Sy"
      }
    },
    {
      "cell_type": "markdown",
      "source": [
        "## **Arithmetic operations:**"
      ],
      "metadata": {
        "id": "G3wimZEWFLjd"
      }
    },
    {
      "cell_type": "code",
      "execution_count": 1,
      "metadata": {
        "colab": {
          "base_uri": "https://localhost:8080/"
        },
        "id": "6P_W_UNYM6Po",
        "outputId": "637f91df-f267-48f0-c8fe-f76c9e25aa6a"
      },
      "outputs": [
        {
          "output_type": "stream",
          "name": "stdout",
          "text": [
            "6\n"
          ]
        }
      ],
      "source": [
        "# +, -, / division, // integer division, ** powers\n",
        "# type(): integer, float, string, boolean, Nonetype\n",
        "# print()\n",
        "print(3*2)"
      ]
    },
    {
      "cell_type": "markdown",
      "source": [
        "## **Print and strings:**"
      ],
      "metadata": {
        "id": "iBjNDTjaFUBx"
      }
    },
    {
      "cell_type": "code",
      "source": [
        "# Assignment: =\n",
        "x=3.0\n",
        "print(x)\n",
        "x=x+2\n",
        "print(type(x))\n",
        "print(type(True))\n",
        "print(type(None))\n",
        "\n",
        "# Strings\n",
        "s='string'\n",
        "t='string2'\n",
        "print(s+t)\n",
        "# To access elements of a string:\n",
        "s[-1] # The last but one element\n",
        "n=10000\n",
        "str(n) # To convert to a string\n",
        "'8' in str(n) # It returns True or False, depending on whether the character '8' is in the string or not"
      ],
      "metadata": {
        "colab": {
          "base_uri": "https://localhost:8080/"
        },
        "id": "GSlhQgzcOFrt",
        "outputId": "18ec0408-c23c-49f2-e54c-f8a1157d9d0b"
      },
      "execution_count": 2,
      "outputs": [
        {
          "output_type": "stream",
          "name": "stdout",
          "text": [
            "3.0\n",
            "<class 'float'>\n",
            "<class 'bool'>\n",
            "<class 'NoneType'>\n",
            "stringstring2\n"
          ]
        },
        {
          "output_type": "execute_result",
          "data": {
            "text/plain": [
              "False"
            ]
          },
          "metadata": {},
          "execution_count": 2
        }
      ]
    },
    {
      "cell_type": "markdown",
      "source": [
        "## **If-statement:**"
      ],
      "metadata": {
        "id": "6ZHD29tGFDf8"
      }
    },
    {
      "cell_type": "code",
      "source": [
        "# if\n",
        "if 3<2:\n",
        "  print(\"not ok\")\n",
        "elif 3==2:\n",
        "  print(\"still not ok\")\n",
        "else:\n",
        "  print(\"ciao\")\n",
        "# , ==, !=, <=, >=\n",
        "# and, or\n",
        "d=6;\n",
        "if (d>20 or d==6):\n",
        "  print(d)\n",
        "\n",
        "b=False;\n",
        "if (b):\n",
        "  print('b is true')"
      ],
      "metadata": {
        "colab": {
          "base_uri": "https://localhost:8080/"
        },
        "id": "HM4NEtrEOKdT",
        "outputId": "411d5c35-a65d-4d16-f4e7-b1d2674d8e79"
      },
      "execution_count": 3,
      "outputs": [
        {
          "output_type": "stream",
          "name": "stdout",
          "text": [
            "ciao\n",
            "6\n"
          ]
        }
      ]
    },
    {
      "cell_type": "markdown",
      "source": [
        "##**Loops: for and while**"
      ],
      "metadata": {
        "id": "KimfN-cFE5NM"
      }
    },
    {
      "cell_type": "code",
      "source": [
        "# for var in set_of_variables:\n",
        "  # do_something\n",
        "\n",
        "# for loop: if we already know a condition\n",
        "# for i in [0,1,2,3,4]\n",
        "  # print(i)\n",
        "for i in range(0,5,1):\n",
        "  print(i)\n",
        "# same as range(5)\n",
        "\n",
        "# while(condition):\n",
        "  # do_something\n",
        "counter=0\n",
        "while(counter<10):\n",
        "  counter=counter+1\n",
        "  print(counter)"
      ],
      "metadata": {
        "colab": {
          "base_uri": "https://localhost:8080/"
        },
        "id": "-8hvKqHQQWJB",
        "outputId": "44649019-831a-413d-94e2-d30f085da510"
      },
      "execution_count": 4,
      "outputs": [
        {
          "output_type": "stream",
          "name": "stdout",
          "text": [
            "0\n",
            "1\n",
            "2\n",
            "3\n",
            "4\n",
            "1\n",
            "2\n",
            "3\n",
            "4\n",
            "5\n",
            "6\n",
            "7\n",
            "8\n",
            "9\n",
            "10\n"
          ]
        }
      ]
    },
    {
      "cell_type": "markdown",
      "source": [
        "Remember tha indentation is crucial in Python!"
      ],
      "metadata": {
        "id": "IHVArahKYv7I"
      }
    },
    {
      "cell_type": "markdown",
      "source": [
        "##**Lists:**\n",
        "They are inhomogeneous containers of objects of different type.\n",
        "They are mutuable and resizable."
      ],
      "metadata": {
        "id": "w5tYmhEhFfSH"
      }
    },
    {
      "cell_type": "code",
      "source": [
        "l=[]\n",
        "l=[1,2,3,4]\n",
        "print(l)\n",
        "# or also\n",
        "l=list()\n",
        "l=list(range(10))\n",
        "print(l)\n",
        "len(l) # length\n",
        "l.append(\"parappappappà\") # I can add elements, even of various type\n",
        "print(l)\n",
        "print(l[1])\n",
        "l.index(3) # It returns the position of 3 in the list\n",
        "l.pop() # It deletes the last element\n",
        "l.pop(2) # It deletes the 3rd element\n",
        "print(l)\n",
        "l[2:9:3] # It just sees the elements between those positions, proceeding with step 3. l[9] Is included"
      ],
      "metadata": {
        "colab": {
          "base_uri": "https://localhost:8080/"
        },
        "id": "cYxhH9OUSTrc",
        "outputId": "8c1f7ac1-f674-4fa0-e8a0-458d108c73f5"
      },
      "execution_count": 5,
      "outputs": [
        {
          "output_type": "stream",
          "name": "stdout",
          "text": [
            "[1, 2, 3, 4]\n",
            "[0, 1, 2, 3, 4, 5, 6, 7, 8, 9]\n",
            "[0, 1, 2, 3, 4, 5, 6, 7, 8, 9, 'parappappappà']\n",
            "1\n",
            "[0, 1, 3, 4, 5, 6, 7, 8, 9]\n"
          ]
        },
        {
          "output_type": "execute_result",
          "data": {
            "text/plain": [
              "[3, 6, 9]"
            ]
          },
          "metadata": {},
          "execution_count": 5
        }
      ]
    },
    {
      "cell_type": "markdown",
      "source": [
        "To sort a list and/or perform other operations on it:"
      ],
      "metadata": {
        "id": "-NzZ4exvGXrh"
      }
    },
    {
      "cell_type": "code",
      "source": [
        "print(sorted(l)) # Ordered\n",
        "print(l) # Not modified\n",
        "l.sort() # Ordered modifying the original list\n",
        "# You can also build lists of lists\n",
        "l1=[1,2,3,'ddd',4, [3,2,1]]\n",
        "print(type(l))\n",
        "l1.pop() # It deletes the last list\n",
        "l2=[1,2,3]\n",
        "l1.append(l2)\n",
        "l2.pop() # The element is deleted from l1 as well\n",
        "l3=l1.copy()\n",
        "l3.pop(0) # It does not modify l1\n",
        "l1= [1,2,4]\n",
        "l2=l1\n",
        "print(l1 is l2) # True, the 2 lists are pointing to the same object\n",
        "l3=l1.copy()\n",
        "print(l1 is l3) # False!"
      ],
      "metadata": {
        "colab": {
          "base_uri": "https://localhost:8080/"
        },
        "id": "MASthc-yS8BZ",
        "outputId": "6c555f12-9143-4c2a-abee-7b2d000ee2cf"
      },
      "execution_count": 6,
      "outputs": [
        {
          "output_type": "stream",
          "name": "stdout",
          "text": [
            "[0, 1, 3, 4, 5, 6, 7, 8, 9]\n",
            "[0, 1, 3, 4, 5, 6, 7, 8, 9]\n",
            "<class 'list'>\n",
            "True\n",
            "False\n"
          ]
        }
      ]
    },
    {
      "cell_type": "markdown",
      "source": [
        "## **Tuples:**\n",
        "Tuples are immutable in Python, meaning that it is not possible to change their length or a single element. Similar to lists, apart from that."
      ],
      "metadata": {
        "id": "rVNJvROBGnTD"
      }
    },
    {
      "cell_type": "code",
      "source": [
        "t = ()\n",
        "print(type(t))\n",
        "t=(1,2,3,'ssss')\n",
        "t=tuple(range(10))\n",
        "t[2:7] # To access elements 2 to 6\n",
        "# t[2]=\"hi \" # Error: you cannot modify it\n",
        "\n",
        "# Packing operation:\n",
        "f = 'Hello '\n",
        "g= 'there'\n",
        "packed_tuple=(f,g)\n",
        "print(packed_tuple)\n",
        "\n",
        "# Unpacking operation\n",
        "c,d=packed_tuple\n",
        "print(c)\n",
        "print(d)\n",
        "\n",
        "# If we have long tuples:\n",
        "t = tuple(range(100))\n",
        "a,b,*rest=t # *:  Put all the rest in the variable \"rest\"\n",
        "print(a)\n",
        "print(b)"
      ],
      "metadata": {
        "colab": {
          "base_uri": "https://localhost:8080/"
        },
        "id": "xJ0MTeKjYZuv",
        "outputId": "4b870261-a83a-460b-edd6-68a294a51bea"
      },
      "execution_count": 7,
      "outputs": [
        {
          "output_type": "stream",
          "name": "stdout",
          "text": [
            "<class 'tuple'>\n",
            "('Hello ', 'there')\n",
            "Hello \n",
            "there\n",
            "0\n",
            "1\n"
          ]
        }
      ]
    },
    {
      "cell_type": "markdown",
      "source": [
        "## **Functions:**\n",
        "A set of commands to perform a task. Used to optimize your code and to avoid repeating lines of code too many times."
      ],
      "metadata": {
        "id": "ROUYrFJLGNe8"
      }
    },
    {
      "cell_type": "code",
      "source": [
        "# def name_function(argument1, argument2, ....):\n",
        "  # body of the function\n",
        "  # return ----> actually optional, if you want to return a value\n",
        "\n",
        "def func(x):\n",
        "  print(\"Your x is: \",x)\n",
        "func(5)\n",
        "\n",
        "def fun(s1,s2):\n",
        "  return s1+s2\n",
        "fun(\"aaa\",\"bbb\")\n",
        "\n",
        "def square(x):\n",
        "  x=x+1\n",
        "\n",
        "  return x*x\n",
        "square(4)\n",
        "\n",
        "# Two ways you can use to specify arguments of a function:\n",
        "func(5)\n",
        "func(x=5)\n",
        "# Same result, but difference: positional arguments vs keyword arguments.\n",
        "# Here it is the same because we only have one argument. In general, you can use these two with different results.\n",
        "\n",
        "def info_about_you(name,language):\n",
        "  print(\"Hi, I am \"+ name +', I speak '+language)\n",
        "info_about_you('Abelardo', 'Urdu')\n",
        "info_about_you('Urdu', 'Abelardo') # Wrong order\n",
        "info_about_you(language='Urdu', name='Abelardo') # It works as axpected!\n",
        "\n",
        "def many_names(*names):\n",
        "  print('Hi', 'Genoveffa', 'Ermenegildo') # Positional arguments: use only *\n",
        "# Keywords to pass an undefined number of arguments: use **\n",
        "def many_data(**names_and_ages): # Keyword arguments\n",
        "  print(names_and_ages)\n",
        "many_data(Ermenegildo=18)\n",
        "# With ** the input is (treated as) a dictionary\n",
        "# With * it is (treated like) a tuple\n",
        "\n",
        "# Specify positional arguments before keyword arguments.\n",
        "# Specify a default value for a variable, e.g. define a tollerance without knowing the number of arguments\n",
        "\n",
        "def many_names(*names, tol=1e-12):\n",
        " print(names)\n",
        " print(tol)\n",
        "\n",
        "many_names('Pluto',1)"
      ],
      "metadata": {
        "colab": {
          "base_uri": "https://localhost:8080/"
        },
        "id": "7mWDVgmxZ_e9",
        "outputId": "854c002b-33f8-40eb-bb34-516acbf363ab"
      },
      "execution_count": 8,
      "outputs": [
        {
          "output_type": "stream",
          "name": "stdout",
          "text": [
            "Your x is:  5\n",
            "Your x is:  5\n",
            "Your x is:  5\n",
            "Hi, I am Abelardo, I speak Urdu\n",
            "Hi, I am Urdu, I speak Abelardo\n",
            "Hi, I am Abelardo, I speak Urdu\n",
            "{'Ermenegildo': 18}\n",
            "('Pluto', 1)\n",
            "1e-12\n"
          ]
        }
      ]
    },
    {
      "cell_type": "markdown",
      "source": [
        "## **Mathematical functions:**"
      ],
      "metadata": {
        "id": "VMgMN-17GIPX"
      }
    },
    {
      "cell_type": "code",
      "source": [
        "import math # math.py\n",
        "math.sqrt(25)\n",
        "math.factorial(5)\n",
        "math.cos(6.28)\n",
        "\n",
        "from math import sqrt\n",
        "# So we can just write\n",
        "sqrt(4) # But be careful not to write another funcion with the same name in your code!\n",
        "# Assume you have a function sqrt and you want to compare it to the function present in math.\n",
        "# Then you will have to go for the first approach."
      ],
      "metadata": {
        "colab": {
          "base_uri": "https://localhost:8080/"
        },
        "id": "qceKxyHWbnBU",
        "outputId": "fc23ca17-76d1-41d5-ef09-0aa85def5159"
      },
      "execution_count": 9,
      "outputs": [
        {
          "output_type": "execute_result",
          "data": {
            "text/plain": [
              "2.0"
            ]
          },
          "metadata": {},
          "execution_count": 9
        }
      ]
    }
  ]
}