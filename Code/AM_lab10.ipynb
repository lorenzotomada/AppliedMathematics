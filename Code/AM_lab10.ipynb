{
  "cells": [
    {
      "cell_type": "markdown",
      "metadata": {
        "id": "view-in-github",
        "colab_type": "text"
      },
      "source": [
        "<a href=\"https://colab.research.google.com/github/lorenzotomada/Applied_Mathematics/blob/main/Code/AM_lab11.ipynb\" target=\"_parent\"><img src=\"https://colab.research.google.com/assets/colab-badge.svg\" alt=\"Open In Colab\"/></a>"
      ]
    },
    {
      "cell_type": "markdown",
      "metadata": {
        "id": "habaocacN5bf"
      },
      "source": [
        "#**An introduction to the Finite Element Method (FEM) using _FEniCS_**"
      ]
    },
    {
      "cell_type": "markdown",
      "source": [
        "In order to solve a simple elliptic equation, we will use _FEniCS_ (FE stands for \"Finite Element\", CS for \"Computational Software\"), a popular Python library for the solution of PDEs.\n",
        "\n",
        "We start by importing dolfin (which is the backend for FEniCS, written in C++ in order to take care of the most computationally intense tasks)."
      ],
      "metadata": {
        "id": "rWRUEU_r_go4"
      }
    },
    {
      "cell_type": "code",
      "source": [
        "try:\n",
        "    import dolfin\n",
        "except ImportError:\n",
        "    !wget \"https://fem-on-colab.github.io/releases/fenics-install-real.sh\" -O \"/tmp/fenics-install.sh\" && bash \"/tmp/fenics-install.sh\"\n",
        "\n",
        "    import dolfin"
      ],
      "metadata": {
        "id": "ArxBsz4D_Gnm"
      },
      "execution_count": 20,
      "outputs": []
    },
    {
      "cell_type": "code",
      "source": [
        "from dolfin import *"
      ],
      "metadata": {
        "id": "fveba_QNBT4o"
      },
      "execution_count": 21,
      "outputs": []
    },
    {
      "cell_type": "markdown",
      "metadata": {
        "id": "eMSMnIWwQV27"
      },
      "source": [
        "##**The 1D case:**\n",
        "\n",
        "We want to solve the following equation:\n",
        "\n",
        "\n",
        "\\begin{cases}\n",
        "    -u'' = 1, x\\in (0,1) \\\\\n",
        "    u(0)=u(1)=0\n",
        "\\end{cases}\n",
        "\n",
        "\n",
        "Let us start by creating a mesh on the interval $(0, 1)$:"
      ]
    },
    {
      "cell_type": "code",
      "execution_count": 22,
      "metadata": {
        "id": "SR_lDB9LPe4V",
        "colab": {
          "base_uri": "https://localhost:8080/",
          "height": 127
        },
        "outputId": "5580f06e-ac64-4efb-ef84-b4fafef40153"
      },
      "outputs": [
        {
          "output_type": "execute_result",
          "data": {
            "text/plain": [
              "[<matplotlib.lines.Line2D at 0x7c63fb2c3700>]"
            ]
          },
          "metadata": {},
          "execution_count": 22
        },
        {
          "output_type": "display_data",
          "data": {
            "text/plain": [
              "<Figure size 640x480 with 1 Axes>"
            ],
            "image/png": "[encoded data removed]"
          },
          "metadata": {}
        }
      ],
      "source": [
        "mesh = UnitIntervalMesh(15)\n",
        "plot(mesh) # To plot the mesh"
      ]
    },
    {
      "cell_type": "markdown",
      "metadata": {
        "id": "qxD8qWlhRisq"
      },
      "source": [
        "Here 15 is the number of cells in which we discretize our domain. The number of points is given by $1$ plus the number of cells (so we have 16 vertices).\n",
        "\n",
        "Now we create the function space $V$, whose elements are piecewise linear polynomials of degree $1$ which are continuous on $[0,1]$."
      ]
    },
    {
      "cell_type": "code",
      "execution_count": 23,
      "metadata": {
        "id": "rzoKsdHas87S",
        "colab": {
          "base_uri": "https://localhost:8080/"
        },
        "outputId": "3cdb49bf-d164-4e98-b5e1-9335ce61cfe4"
      },
      "outputs": [
        {
          "output_type": "stream",
          "name": "stdout",
          "text": [
            "16\n"
          ]
        }
      ],
      "source": [
        "V = FunctionSpace(mesh, 'Lagrange', 1)\n",
        "print(V.dim()) # To print the dimension"
      ]
    },
    {
      "cell_type": "markdown",
      "source": [
        "Now we allocate a test function $v$ and a trial function $u$ in $V$. Test functions are clearly allocated in $v$, whereas $u$ is the variable in which we will allocate the solution of the problem."
      ],
      "metadata": {
        "id": "N4k4EOkQBjax"
      }
    },
    {
      "cell_type": "code",
      "execution_count": 24,
      "metadata": {
        "id": "SPZ5YbIEtbqg"
      },
      "outputs": [],
      "source": [
        "v = TestFunction(V)\n",
        "u = TrialFunction(V)"
      ]
    },
    {
      "cell_type": "markdown",
      "source": [
        "Now we define the bilinear form $a$ and the functional $b$.\n",
        "\n",
        "Further explanations are provided in the comments."
      ],
      "metadata": {
        "id": "b4nJbBTSCAYt"
      }
    },
    {
      "cell_type": "code",
      "execution_count": 25,
      "metadata": {
        "id": "Jsfmy0gUub8W"
      },
      "outputs": [],
      "source": [
        "a = u.dx(0)*v.dx(0)*dx\n",
        "# \"0\" is related to the fact that we only consider the 1st derivative with respect to x. We work in a 1-dimensional context\n",
        "# \"*dx\" = perform an integration. See the weak formulation of the problem.\n",
        "b = v*dx"
      ]
    },
    {
      "cell_type": "markdown",
      "source": [
        "Now we define two subdomains: left and right, corresponding to the two parts of the boundary of the domain."
      ],
      "metadata": {
        "id": "vf9D0u2dDFyA"
      }
    },
    {
      "cell_type": "code",
      "execution_count": 26,
      "metadata": {
        "id": "Ewiye5uPvXVc"
      },
      "outputs": [],
      "source": [
        "class Left(SubDomain):\n",
        "  def inside(self, x, on_boundary):\n",
        "    return on_boundary and abs(x[0]-0)< DOLFIN_EPS\n",
        "\n",
        "class Right(SubDomain):\n",
        "  def inside(self, x, on_boundary):\n",
        "    return on_boundary and abs(x[0]-1.)< DOLFIN_EPS"
      ]
    },
    {
      "cell_type": "markdown",
      "source": [
        "We can assign a label to each component of the boundary, in order to be able to use some FEniCS constructors to implement boundary conditions with ease."
      ],
      "metadata": {
        "id": "W52xEIfQDzk_"
      }
    },
    {
      "cell_type": "code",
      "execution_count": 27,
      "metadata": {
        "id": "UzoOQpRXxq-C"
      },
      "outputs": [],
      "source": [
        "boundaries = MeshFunction('size_t', mesh, mesh.topology().dim()-1) # The inputs are format, mesh and dimension of the boundary\n",
        "boundaries.set_all(0) # 0 = dimension of the boundary\n",
        "\n",
        "left = Left() # Location of the left extreme of the interval. We assign the label 1 to it\n",
        "left.mark(boundaries, 1)\n",
        "right = Right() # Label 2 on the right\n",
        "right.mark(boundaries, 2)"
      ]
    },
    {
      "cell_type": "markdown",
      "source": [
        "Now we impose the boundary conditions:"
      ],
      "metadata": {
        "id": "Xf8gsg3PEpdq"
      }
    },
    {
      "cell_type": "code",
      "execution_count": 28,
      "metadata": {
        "id": "MBfjtRrpyNOj"
      },
      "outputs": [],
      "source": [
        "#bcs = DirichletBC(V, 0.0, boundaries, 1)\n",
        "# Basically we are considering functions in V that on the boundaries marked by 1 are equal 0. The 2nd input is the value of the boundary condition,\n",
        "# the 4th one is the label we want to consider.\n",
        "# However, this would impose the condition on just one of the two points {a, b}, so we define a list of boundary conditions:\n",
        "\n",
        "bcs = [DirichletBC(V, 0.0, boundaries, 1), DirichletBC(V, 0.0, boundaries, 2)]"
      ]
    },
    {
      "cell_type": "markdown",
      "source": [
        "Now we can solve the problem and plot the solution:"
      ],
      "metadata": {
        "id": "vYMkrSwwE87q"
      }
    },
    {
      "cell_type": "code",
      "execution_count": 29,
      "metadata": {
        "id": "wvnCvlBO1D3B"
      },
      "outputs": [],
      "source": [
        "solution = Function(V) # Here we allocate the solution, which is an element of the space in which we have the test functions.\n",
        "# We want to solve a == b:  we use the 'solve' function.\n",
        "\n",
        "solve(a==b, solution, bcs) # The solution is allocated in the 2nd input.\n",
        "# The first input is the expression we want to solve, whereas the third argument are the boundary conditions."
      ]
    },
    {
      "cell_type": "markdown",
      "source": [
        "Now we plot the FE solution:"
      ],
      "metadata": {
        "id": "x58RdXzBDXSR"
      }
    },
    {
      "cell_type": "code",
      "execution_count": 30,
      "metadata": {
        "id": "UG7-f-Kw1l8i",
        "colab": {
          "base_uri": "https://localhost:8080/",
          "height": 469
        },
        "outputId": "9d97972f-4263-4226-8b00-4c6ca80c412d"
      },
      "outputs": [
        {
          "output_type": "execute_result",
          "data": {
            "text/plain": [
              "[<matplotlib.lines.Line2D at 0x7c63f316e170>]"
            ]
          },
          "metadata": {},
          "execution_count": 30
        },
        {
          "output_type": "display_data",
          "data": {
            "text/plain": [
              "<Figure size 640x480 with 1 Axes>"
            ],
            "image/png": "[encoded data removed]"
          },
          "metadata": {}
        }
      ],
      "source": [
        "plot(solution, title = 'FE solution')"
      ]
    },
    {
      "cell_type": "markdown",
      "source": [
        "##**The 2D case:**\n",
        "\n",
        "Same thing as before, but in 2D:\n",
        "\n",
        "\\begin{cases}\n",
        "    -\\Delta u = 1, (x,y)\\in (0,1)\\times (0,1) \\\\\n",
        "    u(x, 0)=0, \\forall x\\in (0,1) \\\\\n",
        "    u(0, y) = 0, \\forall y\\in (0,1)\n",
        "\\end{cases}\n",
        "\n",
        "Consider a mesh on the square. The input of the function is the number of cells in which we want to discretize our domain."
      ],
      "metadata": {
        "id": "p7fdADnpF6hg"
      }
    },
    {
      "cell_type": "code",
      "execution_count": 31,
      "metadata": {
        "id": "6_OCWIge1o3g",
        "colab": {
          "base_uri": "https://localhost:8080/",
          "height": 465
        },
        "outputId": "2f64b51d-6d0e-45a7-89a7-1303e86d29c6"
      },
      "outputs": [
        {
          "output_type": "execute_result",
          "data": {
            "text/plain": [
              "[<matplotlib.lines.Line2D at 0x7c63f31e9ab0>,\n",
              " <matplotlib.lines.Line2D at 0x7c63f31e9d80>]"
            ]
          },
          "metadata": {},
          "execution_count": 31
        },
        {
          "output_type": "display_data",
          "data": {
            "text/plain": [
              "<Figure size 640x480 with 1 Axes>"
            ],
            "image/png": "[encoded data removed]"
          },
          "metadata": {}
        }
      ],
      "source": [
        "mesh2 = UnitSquareMesh(15,15)\n",
        "plot(mesh2)"
      ]
    },
    {
      "cell_type": "markdown",
      "source": [
        "The rest works as before."
      ],
      "metadata": {
        "id": "0x2iVJQ1HX4g"
      }
    },
    {
      "cell_type": "code",
      "execution_count": 32,
      "metadata": {
        "id": "DnSaq0z32OkV",
        "colab": {
          "base_uri": "https://localhost:8080/"
        },
        "outputId": "c89917d1-f1ff-4950-9d50-e65372205ee0"
      },
      "outputs": [
        {
          "output_type": "stream",
          "name": "stdout",
          "text": [
            "961\n"
          ]
        }
      ],
      "source": [
        "V2 = FunctionSpace(mesh2, 'Lagrange', 2) # Piecewise quadratic polynomials which are continuous on (0,1)^2.\n",
        "print(V2.dim())"
      ]
    },
    {
      "cell_type": "code",
      "execution_count": 33,
      "metadata": {
        "id": "5YnlUQLY2yhi"
      },
      "outputs": [],
      "source": [
        "v2 = TestFunction(V2)\n",
        "u2 = TrialFunction(V2)"
      ]
    },
    {
      "cell_type": "code",
      "execution_count": 34,
      "metadata": {
        "id": "zGNIzde823-X"
      },
      "outputs": [],
      "source": [
        "a2 = inner(grad(u2),grad(v2))*dx # \"inner\" to compute the scalar product; \"grad\" representing the gradient.\n",
        "b2 = v2*dx"
      ]
    },
    {
      "cell_type": "code",
      "execution_count": 35,
      "metadata": {
        "id": "yA5w0IGv3DzT"
      },
      "outputs": [],
      "source": [
        "class Left(SubDomain):\n",
        "  def inside(self, x, on_boundary):\n",
        "    return on_boundary and abs(x[0]-0)< DOLFIN_EPS\n",
        "\n",
        "class Down(SubDomain):\n",
        "  def inside(self, x, on_boundary):\n",
        "    return on_boundary and abs(x[1]-0)< DOLFIN_EPS\n",
        "\n",
        "# We could also define the following two subdomains, but just to have a nicer plot we will not do that:\n",
        "\n",
        "#class Right(SubDomain):\n",
        "#  def inside(self, x, on_boundary):\n",
        "#    return on_boundary and abs(x[0]-1.)< DOLFIN_EPS\n",
        "\n",
        "#class Up(SubDomain):\n",
        "#  def inside(self, x, on_boundary):\n",
        "#    return on_boundary and abs(x[1]-1.)< DOLFIN_EPS"
      ]
    },
    {
      "cell_type": "code",
      "execution_count": 36,
      "metadata": {
        "id": "x0N9zqKS3VCp"
      },
      "outputs": [],
      "source": [
        "boundaries2 = MeshFunction('size_t', mesh2, mesh2.topology().dim()-1)\n",
        "boundaries2.set_all(0)\n",
        "\n",
        "left = Left()\n",
        "left.mark(boundaries2, 1)\n",
        "down = Down()\n",
        "down.mark(boundaries2, 1) # We could have assigned a different label to it. This was just to show that you can assign multiple labels to different subdomains.\n",
        "#right = Right()\n",
        "#right.mark(boundaries2, 2)\n",
        "#up = Up()\n",
        "#up.mark(boundaries2, 3)\n",
        "\n",
        "#bcs2 = [DirichletBC(V2, 0.0, boundaries2, 1), DirichletBC(V2, 0.0, boundaries2, 2), DirichletBC(V2, 0.0, boundaries2, 3)]\n",
        "\n",
        "bcs2 = DirichletBC(V2, 0.0, boundaries2, 1)"
      ]
    },
    {
      "cell_type": "code",
      "execution_count": 37,
      "metadata": {
        "id": "WBAUjc0v3ZrB"
      },
      "outputs": [],
      "source": [
        "solution2 = Function(V2)\n",
        "solve(a2==b2, solution2, bcs2)"
      ]
    },
    {
      "cell_type": "code",
      "execution_count": 38,
      "metadata": {
        "id": "e70Sv2eo3tyf",
        "colab": {
          "base_uri": "https://localhost:8080/",
          "height": 452
        },
        "outputId": "ebf595e1-0e25-4501-fce9-c81f9c589d64"
      },
      "outputs": [
        {
          "output_type": "execute_result",
          "data": {
            "text/plain": [
              "<matplotlib.tri._tricontour.TriContourSet at 0x7c63f3069fc0>"
            ]
          },
          "metadata": {},
          "execution_count": 38
        },
        {
          "output_type": "display_data",
          "data": {
            "text/plain": [
              "<Figure size 640x480 with 1 Axes>"
            ],
            "image/png": "[encoded data removed]"
          },
          "metadata": {}
        }
      ],
      "source": [
        "plot(solution2)"
      ]
    }
  ],
  "metadata": {
    "colab": {
      "provenance": [],
      "authorship_tag": "ABX9TyOid/zfLx1QBR0Yj85iUgoN",
      "include_colab_link": true
    },
    "kernelspec": {
      "display_name": "Python 3",
      "name": "python3"
    },
    "language_info": {
      "name": "python"
    }
  },
  "nbformat": 4,
  "nbformat_minor": 0
}
